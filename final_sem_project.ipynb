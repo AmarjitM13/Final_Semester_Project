{
 "cells": [
  {
   "cell_type": "code",
   "execution_count": null,
   "metadata": {},
   "outputs": [],
   "source": [
    "import os\n",
    "import librosa\n",
    "import numpy as np\n",
    "\n"
   ]
  },
  {
   "cell_type": "code",
   "execution_count": null,
   "metadata": {},
   "outputs": [],
   "source": [
    "# Define the path to the downloaded dataset\n",
    "data_dir = \"C:/Users/Amarjit/Downloads/augmented\"\n",
    "\n",
    "\n",
    "# Define the classes\n",
    "classes = ['go', 'stop', 'up', 'down', 'right', 'left']\n",
    "\n",
    "# Define the number of MFCCs to extract\n",
    "n_mfcc = 13\n",
    "\n",
    "# Define the length of the audio clips (in seconds)\n",
    "clip_length = 1\n",
    "\n",
    "\n",
    "\n"
   ]
  },
  {
   "cell_type": "code",
   "execution_count": null,
   "metadata": {},
   "outputs": [],
   "source": [
    "# Label the data\n",
    "\n",
    "X = []\n",
    "y = []\n",
    "for i, c in enumerate(classes):\n",
    "    class_dir = os.path.join(data_dir, c)\n",
    "    for j, filename in enumerate(os.listdir(class_dir)):\n",
    "        file_path = os.path.join(class_dir, filename)\n",
    "        signal, sr = librosa.load(file_path, sr=None, mono=True, duration=clip_length)\n",
    "        mfccs = librosa.feature.mfcc(y=signal, sr=sr, n_mfcc=n_mfcc)\n",
    "        X.append(mfccs)\n",
    "        y.append(i)\n",
    "\n",
    "# Convert the data to numpy arrays\n",
    "X = np.array(X)\n",
    "y = np.array(y)\n",
    "\n"
   ]
  },
  {
   "cell_type": "code",
   "execution_count": null,
   "metadata": {},
   "outputs": [],
   "source": [
    "from sklearn.model_selection import train_test_split\n",
    "\n",
    "# Split the data into training and testing sets with 80:20 ratio\n",
    "X_train, X_test, y_train, y_test = train_test_split(X, y, test_size=0.2, random_state=42)\n",
    "\n",
    "X = X.reshape((X.shape[0], X.shape[1], X.shape[2], 1))\n",
    "\n",
    "# Print the shapes of the training and testing sets\n",
    "print(\"Training set shape:\", X_train.shape, y_train.shape)\n",
    "print(\"Testing set shape:\", X_test.shape, y_test.shape)\n",
    "\n",
    "\n"
   ]
  },
  {
   "cell_type": "code",
   "execution_count": null,
   "metadata": {},
   "outputs": [],
   "source": [
    "from keras.models import Sequential\n",
    "from keras.layers import Dense, Flatten, Conv1D, MaxPooling1D, Dropout\n",
    "\n",
    "\n",
    "\n",
    "model = Sequential()\n",
    "\n",
    "# Add the first convolutional layer\n",
    "model.add(Conv1D(32, kernel_size=3, activation='relu'))\n",
    "\n",
    "# Add the max pooling layer\n",
    "model.add(MaxPooling1D(pool_size=2))\n",
    "\n",
    "# Flatten the output from the max pooling layer\n",
    "model.add(Flatten())\n",
    "\n",
    "# Add a fully connected layer with 64 units\n",
    "model.add(Dense(64, activation='relu'))\n",
    "\n",
    "# Add a dropout layer to reduce overfitting\n",
    "model.add(Dropout(0.5))\n",
    "\n",
    "# Add the output layer\n",
    "model.add(Dense(len(classes), activation='softmax'))\n",
    "\n",
    "# Compile the model\n",
    "model.compile(optimizer='adam', loss='sparse_categorical_crossentropy', metrics=['accuracy'])\n",
    "\n",
    "# Train the model\n",
    "model.fit(X_train, y_train, epochs=10, validation_split=0.1)\n",
    "\n",
    "# Evaluate the model on the testing set\n",
    "test_loss, test_acc = model.evaluate(X_test, y_test)\n",
    "print(\"Test accuracy:\", test_acc)\n",
    "\n"
   ]
  }
 ],
 "metadata": {
  "kernelspec": {
   "display_name": "Python 3 (ipykernel)",
   "language": "python",
   "name": "python3"
  },
  "language_info": {
   "codemirror_mode": {
    "name": "ipython",
    "version": 3
   },
   "file_extension": ".py",
   "mimetype": "text/x-python",
   "name": "python",
   "nbconvert_exporter": "python",
   "pygments_lexer": "ipython3",
   "version": "3.9.13"
  }
 },
 "nbformat": 4,
 "nbformat_minor": 2
}
